{
 "cells": [
  {
   "cell_type": "raw",
   "metadata": {},
   "source": [
    "random forest regressor is used as model to find score(79%)\n",
    "creating model on train data ,testing our model in test of train part only \n",
    "then finding main test data over that model which is train over  train data\n",
    "im getting 79% score , so check over main train and main test data, we are creating same model in which\n",
    "train part and test part both are indiviual(no spliting) and im getting 79% score again(checking)"
   ]
  },
  {
   "cell_type": "code",
   "execution_count": 9,
   "metadata": {},
   "outputs": [],
   "source": [
    "import pandas as pd #importing libraries \n",
    "import numpy as np\n",
    "import seaborn as sns\n",
    "import matplotlib.pyplot as plt"
   ]
  },
  {
   "cell_type": "code",
   "execution_count": 43,
   "metadata": {},
   "outputs": [
    {
     "name": "stdout",
     "output_type": "stream",
     "text": [
      "(1460, 81)\n"
     ]
    }
   ],
   "source": [
    "train=pd.read_csv(\"finaltraindata.csv\")\n",
    "#train data load\n",
    "print(train.shape)"
   ]
  },
  {
   "cell_type": "code",
   "execution_count": 46,
   "metadata": {},
   "outputs": [
    {
     "data": {
      "text/html": [
       "<div>\n",
       "<style scoped>\n",
       "    .dataframe tbody tr th:only-of-type {\n",
       "        vertical-align: middle;\n",
       "    }\n",
       "\n",
       "    .dataframe tbody tr th {\n",
       "        vertical-align: top;\n",
       "    }\n",
       "\n",
       "    .dataframe thead th {\n",
       "        text-align: right;\n",
       "    }\n",
       "</style>\n",
       "<table border=\"1\" class=\"dataframe\">\n",
       "  <thead>\n",
       "    <tr style=\"text-align: right;\">\n",
       "      <th></th>\n",
       "      <th>Id</th>\n",
       "      <th>SalePrice</th>\n",
       "      <th>MSSubClass</th>\n",
       "      <th>MSZoning</th>\n",
       "      <th>LotFrontage</th>\n",
       "      <th>LotArea</th>\n",
       "      <th>Street</th>\n",
       "      <th>Alley</th>\n",
       "      <th>LotShape</th>\n",
       "      <th>LandContour</th>\n",
       "      <th>...</th>\n",
       "      <th>ScreenPorch</th>\n",
       "      <th>PoolArea</th>\n",
       "      <th>PoolQC</th>\n",
       "      <th>Fence</th>\n",
       "      <th>MiscFeature</th>\n",
       "      <th>MiscVal</th>\n",
       "      <th>MoSold</th>\n",
       "      <th>YrSold</th>\n",
       "      <th>SaleType</th>\n",
       "      <th>SaleCondition</th>\n",
       "    </tr>\n",
       "  </thead>\n",
       "  <tbody>\n",
       "    <tr>\n",
       "      <th>0</th>\n",
       "      <td>1</td>\n",
       "      <td>208500</td>\n",
       "      <td>0.235294</td>\n",
       "      <td>0.75</td>\n",
       "      <td>0.207668</td>\n",
       "      <td>0.033420</td>\n",
       "      <td>1.0</td>\n",
       "      <td>1.0</td>\n",
       "      <td>0.000000</td>\n",
       "      <td>0.333333</td>\n",
       "      <td>...</td>\n",
       "      <td>0.0</td>\n",
       "      <td>0.0</td>\n",
       "      <td>0.0</td>\n",
       "      <td>1.0</td>\n",
       "      <td>1.0</td>\n",
       "      <td>0.0</td>\n",
       "      <td>0.090909</td>\n",
       "      <td>0.50</td>\n",
       "      <td>0.666667</td>\n",
       "      <td>0.75</td>\n",
       "    </tr>\n",
       "    <tr>\n",
       "      <th>1</th>\n",
       "      <td>2</td>\n",
       "      <td>181500</td>\n",
       "      <td>0.000000</td>\n",
       "      <td>0.75</td>\n",
       "      <td>0.255591</td>\n",
       "      <td>0.038795</td>\n",
       "      <td>1.0</td>\n",
       "      <td>1.0</td>\n",
       "      <td>0.000000</td>\n",
       "      <td>0.333333</td>\n",
       "      <td>...</td>\n",
       "      <td>0.0</td>\n",
       "      <td>0.0</td>\n",
       "      <td>0.0</td>\n",
       "      <td>1.0</td>\n",
       "      <td>1.0</td>\n",
       "      <td>0.0</td>\n",
       "      <td>0.363636</td>\n",
       "      <td>0.25</td>\n",
       "      <td>0.666667</td>\n",
       "      <td>0.75</td>\n",
       "    </tr>\n",
       "    <tr>\n",
       "      <th>2</th>\n",
       "      <td>3</td>\n",
       "      <td>223500</td>\n",
       "      <td>0.235294</td>\n",
       "      <td>0.75</td>\n",
       "      <td>0.217252</td>\n",
       "      <td>0.046507</td>\n",
       "      <td>1.0</td>\n",
       "      <td>1.0</td>\n",
       "      <td>0.333333</td>\n",
       "      <td>0.333333</td>\n",
       "      <td>...</td>\n",
       "      <td>0.0</td>\n",
       "      <td>0.0</td>\n",
       "      <td>0.0</td>\n",
       "      <td>1.0</td>\n",
       "      <td>1.0</td>\n",
       "      <td>0.0</td>\n",
       "      <td>0.727273</td>\n",
       "      <td>0.50</td>\n",
       "      <td>0.666667</td>\n",
       "      <td>0.75</td>\n",
       "    </tr>\n",
       "  </tbody>\n",
       "</table>\n",
       "<p>3 rows × 81 columns</p>\n",
       "</div>"
      ],
      "text/plain": [
       "   Id  SalePrice  MSSubClass  MSZoning  LotFrontage   LotArea  Street  Alley  \\\n",
       "0   1     208500    0.235294      0.75     0.207668  0.033420     1.0    1.0   \n",
       "1   2     181500    0.000000      0.75     0.255591  0.038795     1.0    1.0   \n",
       "2   3     223500    0.235294      0.75     0.217252  0.046507     1.0    1.0   \n",
       "\n",
       "   LotShape  LandContour  ...  ScreenPorch  PoolArea  PoolQC  Fence  \\\n",
       "0  0.000000     0.333333  ...          0.0       0.0     0.0    1.0   \n",
       "1  0.000000     0.333333  ...          0.0       0.0     0.0    1.0   \n",
       "2  0.333333     0.333333  ...          0.0       0.0     0.0    1.0   \n",
       "\n",
       "   MiscFeature  MiscVal    MoSold  YrSold  SaleType  SaleCondition  \n",
       "0          1.0      0.0  0.090909    0.50  0.666667           0.75  \n",
       "1          1.0      0.0  0.363636    0.25  0.666667           0.75  \n",
       "2          1.0      0.0  0.727273    0.50  0.666667           0.75  \n",
       "\n",
       "[3 rows x 81 columns]"
      ]
     },
     "execution_count": 46,
     "metadata": {},
     "output_type": "execute_result"
    }
   ],
   "source": [
    "train.head(3) #first three rows of train data"
   ]
  },
  {
   "cell_type": "code",
   "execution_count": 45,
   "metadata": {},
   "outputs": [
    {
     "name": "stdout",
     "output_type": "stream",
     "text": [
      "(1459, 81)\n"
     ]
    }
   ],
   "source": []
  },
  {
   "cell_type": "code",
   "execution_count": 47,
   "metadata": {},
   "outputs": [
    {
     "data": {
      "text/html": [
       "<div>\n",
       "<style scoped>\n",
       "    .dataframe tbody tr th:only-of-type {\n",
       "        vertical-align: middle;\n",
       "    }\n",
       "\n",
       "    .dataframe tbody tr th {\n",
       "        vertical-align: top;\n",
       "    }\n",
       "\n",
       "    .dataframe thead th {\n",
       "        text-align: right;\n",
       "    }\n",
       "</style>\n",
       "<table border=\"1\" class=\"dataframe\">\n",
       "  <thead>\n",
       "    <tr style=\"text-align: right;\">\n",
       "      <th></th>\n",
       "      <th>Id</th>\n",
       "      <th>SalePrice</th>\n",
       "      <th>MSSubClass</th>\n",
       "      <th>MSZoning</th>\n",
       "      <th>LotFrontage</th>\n",
       "      <th>LotArea</th>\n",
       "      <th>Street</th>\n",
       "      <th>Alley</th>\n",
       "      <th>LotShape</th>\n",
       "      <th>LandContour</th>\n",
       "      <th>...</th>\n",
       "      <th>ScreenPorch</th>\n",
       "      <th>PoolArea</th>\n",
       "      <th>PoolQC</th>\n",
       "      <th>Fence</th>\n",
       "      <th>MiscFeature</th>\n",
       "      <th>MiscVal</th>\n",
       "      <th>MoSold</th>\n",
       "      <th>YrSold</th>\n",
       "      <th>SaleType</th>\n",
       "      <th>SaleCondition</th>\n",
       "    </tr>\n",
       "  </thead>\n",
       "  <tbody>\n",
       "    <tr>\n",
       "      <th>0</th>\n",
       "      <td>1461</td>\n",
       "      <td>169277.052498</td>\n",
       "      <td>0.000000</td>\n",
       "      <td>0.0</td>\n",
       "      <td>0.0</td>\n",
       "      <td>0.184147</td>\n",
       "      <td>1.0</td>\n",
       "      <td>0.0</td>\n",
       "      <td>0.0</td>\n",
       "      <td>0.0</td>\n",
       "      <td>...</td>\n",
       "      <td>0.208333</td>\n",
       "      <td>0.0</td>\n",
       "      <td>0.0</td>\n",
       "      <td>0.0</td>\n",
       "      <td>0.0</td>\n",
       "      <td>0.000000</td>\n",
       "      <td>0.454545</td>\n",
       "      <td>1.0</td>\n",
       "      <td>0.0</td>\n",
       "      <td>0.0</td>\n",
       "    </tr>\n",
       "    <tr>\n",
       "      <th>1</th>\n",
       "      <td>1462</td>\n",
       "      <td>187758.393989</td>\n",
       "      <td>0.000000</td>\n",
       "      <td>1.0</td>\n",
       "      <td>0.0</td>\n",
       "      <td>0.232124</td>\n",
       "      <td>1.0</td>\n",
       "      <td>0.0</td>\n",
       "      <td>0.5</td>\n",
       "      <td>0.0</td>\n",
       "      <td>...</td>\n",
       "      <td>0.000000</td>\n",
       "      <td>0.0</td>\n",
       "      <td>0.0</td>\n",
       "      <td>1.0</td>\n",
       "      <td>0.0</td>\n",
       "      <td>0.735294</td>\n",
       "      <td>0.454545</td>\n",
       "      <td>1.0</td>\n",
       "      <td>0.0</td>\n",
       "      <td>0.0</td>\n",
       "    </tr>\n",
       "    <tr>\n",
       "      <th>2</th>\n",
       "      <td>1463</td>\n",
       "      <td>183583.683570</td>\n",
       "      <td>0.235294</td>\n",
       "      <td>1.0</td>\n",
       "      <td>0.0</td>\n",
       "      <td>0.224197</td>\n",
       "      <td>1.0</td>\n",
       "      <td>0.0</td>\n",
       "      <td>0.5</td>\n",
       "      <td>0.0</td>\n",
       "      <td>...</td>\n",
       "      <td>0.000000</td>\n",
       "      <td>0.0</td>\n",
       "      <td>0.0</td>\n",
       "      <td>0.0</td>\n",
       "      <td>0.0</td>\n",
       "      <td>0.000000</td>\n",
       "      <td>0.181818</td>\n",
       "      <td>1.0</td>\n",
       "      <td>0.0</td>\n",
       "      <td>0.0</td>\n",
       "    </tr>\n",
       "  </tbody>\n",
       "</table>\n",
       "<p>3 rows × 81 columns</p>\n",
       "</div>"
      ],
      "text/plain": [
       "     Id      SalePrice  MSSubClass  MSZoning  LotFrontage   LotArea  Street  \\\n",
       "0  1461  169277.052498    0.000000       0.0          0.0  0.184147     1.0   \n",
       "1  1462  187758.393989    0.000000       1.0          0.0  0.232124     1.0   \n",
       "2  1463  183583.683570    0.235294       1.0          0.0  0.224197     1.0   \n",
       "\n",
       "   Alley  LotShape  LandContour  ...  ScreenPorch  PoolArea  PoolQC  Fence  \\\n",
       "0    0.0       0.0          0.0  ...     0.208333       0.0     0.0    0.0   \n",
       "1    0.0       0.5          0.0  ...     0.000000       0.0     0.0    1.0   \n",
       "2    0.0       0.5          0.0  ...     0.000000       0.0     0.0    0.0   \n",
       "\n",
       "   MiscFeature   MiscVal    MoSold  YrSold  SaleType  SaleCondition  \n",
       "0          0.0  0.000000  0.454545     1.0       0.0            0.0  \n",
       "1          0.0  0.735294  0.454545     1.0       0.0            0.0  \n",
       "2          0.0  0.000000  0.181818     1.0       0.0            0.0  \n",
       "\n",
       "[3 rows x 81 columns]"
      ]
     },
     "execution_count": 47,
     "metadata": {},
     "output_type": "execute_result"
    }
   ],
   "source": []
  },
  {
   "cell_type": "code",
   "execution_count": 48,
   "metadata": {},
   "outputs": [],
   "source": []
  },
  {
   "cell_type": "code",
   "execution_count": 49,
   "metadata": {},
   "outputs": [
    {
     "name": "stdout",
     "output_type": "stream",
     "text": [
      "(1460,)\n",
      "(1460, 79)\n"
     ]
    }
   ],
   "source": [
    "y=train.iloc[:,1] #dependented feature of train data set\n",
    "print(y.shape)\n",
    "x=train.iloc[:,2:81] #independent feature of train data set\n",
    "print(x.shape)"
   ]
  },
  {
   "cell_type": "code",
   "execution_count": 15,
   "metadata": {},
   "outputs": [
    {
     "name": "stdout",
     "output_type": "stream",
     "text": [
      "(1168, 79)\n",
      "(1168,)\n",
      "(292, 79)\n",
      "(292,)\n"
     ]
    }
   ],
   "source": [
    "from sklearn.model_selection import train_test_split #spliting train data set into test and train \n",
    "xtrain,xtest,ytrain,ytest=train_test_split(x,y,test_size=.2,random_state=62)\n",
    "print(xtrain.shape)\n",
    "print(ytrain.shape)\n",
    "print(xtest.shape)\n",
    "print(ytest.shape)\n",
    "#respective size of test and train"
   ]
  },
  {
   "cell_type": "code",
   "execution_count": 40,
   "metadata": {},
   "outputs": [
    {
     "name": "stdout",
     "output_type": "stream",
     "text": [
      "(1459, 79)\n",
      "(1459,)\n"
     ]
    }
   ],
   "source": []
  },
  {
   "cell_type": "code",
   "execution_count": 16,
   "metadata": {},
   "outputs": [],
   "source": [
    "#regression problem here we have to find relation with different featutre to find best realtion to find sales price\n",
    "from sklearn.ensemble import RandomForestRegressor #random forest regressor\n",
    "regressor=RandomForestRegressor()"
   ]
  },
  {
   "cell_type": "code",
   "execution_count": 17,
   "metadata": {},
   "outputs": [
    {
     "name": "stdout",
     "output_type": "stream",
     "text": [
      "[100, 200, 300, 400, 500, 600, 700, 800, 900, 1000, 1100, 1200]\n",
      "['auto', 'sqrt']\n",
      "[5, 10, 15, 20, 25, 30]\n",
      "[2, 5, 10, 15, 100]\n",
      "[1, 2, 5, 10]\n"
     ]
    }
   ],
   "source": [
    "#diffrent parameters\n",
    "n_estimators = [int(x) for x in np.linspace(start = 100, stop = 1200, num = 12)]\n",
    "print(n_estimators)\n",
    "max_features = [\"auto\", \"sqrt\"]\n",
    "print(max_features)\n",
    "max_depth = [int(x) for x in np.linspace(5, 30, num = 6)]\n",
    "print(max_depth)\n",
    "min_samples_split = [2, 5, 10, 15, 100]\n",
    "print(min_samples_split)\n",
    "min_samples_leaf = [1, 2, 5, 10]\n",
    "print(min_samples_leaf)"
   ]
  },
  {
   "cell_type": "code",
   "execution_count": 18,
   "metadata": {},
   "outputs": [
    {
     "name": "stdout",
     "output_type": "stream",
     "text": [
      "{'n_estimators': [100, 200, 300, 400, 500, 600, 700, 800, 900, 1000, 1100, 1200], 'max_features': ['auto', 'sqrt'], 'max_depth': [5, 10, 15, 20, 25, 30], 'min_samples_split': [2, 5, 10, 15, 100], 'min_samples_leaf': [1, 2, 5, 10]}\n"
     ]
    }
   ],
   "source": [
    "#diffrent paramters \n",
    "random_grid = {\"n_estimators\": n_estimators,\n",
    "               \"max_features\": max_features,\n",
    "               \"max_depth\": max_depth,\n",
    "               \"min_samples_split\": min_samples_split,\n",
    "               \"min_samples_leaf\": min_samples_leaf}\n",
    "\n",
    "print(random_grid)"
   ]
  },
  {
   "cell_type": "code",
   "execution_count": 19,
   "metadata": {},
   "outputs": [],
   "source": [
    "rf=RandomForestRegressor()\n",
    "from sklearn.model_selection import RandomizedSearchCV # creating model that perfrom hyperparameter tunning (random search cv)\n",
    "cv=RandomizedSearchCV(estimator = rf, param_distributions = random_grid,scoring=\"neg_mean_squared_error\", n_iter = 10, cv = 5, verbose=2, random_state=42, n_jobs = 1)"
   ]
  },
  {
   "cell_type": "code",
   "execution_count": 20,
   "metadata": {},
   "outputs": [
    {
     "name": "stdout",
     "output_type": "stream",
     "text": [
      "Fitting 5 folds for each of 10 candidates, totalling 50 fits\n",
      "[CV] n_estimators=900, min_samples_split=5, min_samples_leaf=5, max_features=sqrt, max_depth=10 \n"
     ]
    },
    {
     "name": "stderr",
     "output_type": "stream",
     "text": [
      "[Parallel(n_jobs=1)]: Using backend SequentialBackend with 1 concurrent workers.\n"
     ]
    },
    {
     "name": "stdout",
     "output_type": "stream",
     "text": [
      "[CV]  n_estimators=900, min_samples_split=5, min_samples_leaf=5, max_features=sqrt, max_depth=10, total=   1.4s\n",
      "[CV] n_estimators=900, min_samples_split=5, min_samples_leaf=5, max_features=sqrt, max_depth=10 \n"
     ]
    },
    {
     "name": "stderr",
     "output_type": "stream",
     "text": [
      "[Parallel(n_jobs=1)]: Done   1 out of   1 | elapsed:    1.3s remaining:    0.0s\n"
     ]
    },
    {
     "name": "stdout",
     "output_type": "stream",
     "text": [
      "[CV]  n_estimators=900, min_samples_split=5, min_samples_leaf=5, max_features=sqrt, max_depth=10, total=   1.4s\n",
      "[CV] n_estimators=900, min_samples_split=5, min_samples_leaf=5, max_features=sqrt, max_depth=10 \n",
      "[CV]  n_estimators=900, min_samples_split=5, min_samples_leaf=5, max_features=sqrt, max_depth=10, total=   1.4s\n",
      "[CV] n_estimators=900, min_samples_split=5, min_samples_leaf=5, max_features=sqrt, max_depth=10 \n",
      "[CV]  n_estimators=900, min_samples_split=5, min_samples_leaf=5, max_features=sqrt, max_depth=10, total=   1.5s\n",
      "[CV] n_estimators=900, min_samples_split=5, min_samples_leaf=5, max_features=sqrt, max_depth=10 \n",
      "[CV]  n_estimators=900, min_samples_split=5, min_samples_leaf=5, max_features=sqrt, max_depth=10, total=   1.4s\n",
      "[CV] n_estimators=1100, min_samples_split=10, min_samples_leaf=2, max_features=sqrt, max_depth=15 \n",
      "[CV]  n_estimators=1100, min_samples_split=10, min_samples_leaf=2, max_features=sqrt, max_depth=15, total=   1.9s\n",
      "[CV] n_estimators=1100, min_samples_split=10, min_samples_leaf=2, max_features=sqrt, max_depth=15 \n",
      "[CV]  n_estimators=1100, min_samples_split=10, min_samples_leaf=2, max_features=sqrt, max_depth=15, total=   1.8s\n",
      "[CV] n_estimators=1100, min_samples_split=10, min_samples_leaf=2, max_features=sqrt, max_depth=15 \n",
      "[CV]  n_estimators=1100, min_samples_split=10, min_samples_leaf=2, max_features=sqrt, max_depth=15, total=   2.0s\n",
      "[CV] n_estimators=1100, min_samples_split=10, min_samples_leaf=2, max_features=sqrt, max_depth=15 \n",
      "[CV]  n_estimators=1100, min_samples_split=10, min_samples_leaf=2, max_features=sqrt, max_depth=15, total=   1.9s\n",
      "[CV] n_estimators=1100, min_samples_split=10, min_samples_leaf=2, max_features=sqrt, max_depth=15 \n",
      "[CV]  n_estimators=1100, min_samples_split=10, min_samples_leaf=2, max_features=sqrt, max_depth=15, total=   2.3s\n",
      "[CV] n_estimators=300, min_samples_split=100, min_samples_leaf=5, max_features=auto, max_depth=15 \n",
      "[CV]  n_estimators=300, min_samples_split=100, min_samples_leaf=5, max_features=auto, max_depth=15, total=   1.3s\n",
      "[CV] n_estimators=300, min_samples_split=100, min_samples_leaf=5, max_features=auto, max_depth=15 \n",
      "[CV]  n_estimators=300, min_samples_split=100, min_samples_leaf=5, max_features=auto, max_depth=15, total=   1.3s\n",
      "[CV] n_estimators=300, min_samples_split=100, min_samples_leaf=5, max_features=auto, max_depth=15 \n",
      "[CV]  n_estimators=300, min_samples_split=100, min_samples_leaf=5, max_features=auto, max_depth=15, total=   1.3s\n",
      "[CV] n_estimators=300, min_samples_split=100, min_samples_leaf=5, max_features=auto, max_depth=15 \n",
      "[CV]  n_estimators=300, min_samples_split=100, min_samples_leaf=5, max_features=auto, max_depth=15, total=   1.2s\n",
      "[CV] n_estimators=300, min_samples_split=100, min_samples_leaf=5, max_features=auto, max_depth=15 \n",
      "[CV]  n_estimators=300, min_samples_split=100, min_samples_leaf=5, max_features=auto, max_depth=15, total=   1.2s\n",
      "[CV] n_estimators=400, min_samples_split=5, min_samples_leaf=5, max_features=auto, max_depth=15 \n",
      "[CV]  n_estimators=400, min_samples_split=5, min_samples_leaf=5, max_features=auto, max_depth=15, total=   2.6s\n",
      "[CV] n_estimators=400, min_samples_split=5, min_samples_leaf=5, max_features=auto, max_depth=15 \n",
      "[CV]  n_estimators=400, min_samples_split=5, min_samples_leaf=5, max_features=auto, max_depth=15, total=   2.6s\n",
      "[CV] n_estimators=400, min_samples_split=5, min_samples_leaf=5, max_features=auto, max_depth=15 \n",
      "[CV]  n_estimators=400, min_samples_split=5, min_samples_leaf=5, max_features=auto, max_depth=15, total=   2.5s\n",
      "[CV] n_estimators=400, min_samples_split=5, min_samples_leaf=5, max_features=auto, max_depth=15 \n",
      "[CV]  n_estimators=400, min_samples_split=5, min_samples_leaf=5, max_features=auto, max_depth=15, total=   2.5s\n",
      "[CV] n_estimators=400, min_samples_split=5, min_samples_leaf=5, max_features=auto, max_depth=15 \n",
      "[CV]  n_estimators=400, min_samples_split=5, min_samples_leaf=5, max_features=auto, max_depth=15, total=   2.5s\n",
      "[CV] n_estimators=700, min_samples_split=5, min_samples_leaf=10, max_features=auto, max_depth=20 \n",
      "[CV]  n_estimators=700, min_samples_split=5, min_samples_leaf=10, max_features=auto, max_depth=20, total=   3.6s\n",
      "[CV] n_estimators=700, min_samples_split=5, min_samples_leaf=10, max_features=auto, max_depth=20 \n",
      "[CV]  n_estimators=700, min_samples_split=5, min_samples_leaf=10, max_features=auto, max_depth=20, total=   3.7s\n",
      "[CV] n_estimators=700, min_samples_split=5, min_samples_leaf=10, max_features=auto, max_depth=20 \n",
      "[CV]  n_estimators=700, min_samples_split=5, min_samples_leaf=10, max_features=auto, max_depth=20, total=   3.7s\n",
      "[CV] n_estimators=700, min_samples_split=5, min_samples_leaf=10, max_features=auto, max_depth=20 \n",
      "[CV]  n_estimators=700, min_samples_split=5, min_samples_leaf=10, max_features=auto, max_depth=20, total=   3.7s\n",
      "[CV] n_estimators=700, min_samples_split=5, min_samples_leaf=10, max_features=auto, max_depth=20 \n",
      "[CV]  n_estimators=700, min_samples_split=5, min_samples_leaf=10, max_features=auto, max_depth=20, total=   3.7s\n",
      "[CV] n_estimators=1000, min_samples_split=2, min_samples_leaf=1, max_features=sqrt, max_depth=25 \n",
      "[CV]  n_estimators=1000, min_samples_split=2, min_samples_leaf=1, max_features=sqrt, max_depth=25, total=   2.3s\n",
      "[CV] n_estimators=1000, min_samples_split=2, min_samples_leaf=1, max_features=sqrt, max_depth=25 \n",
      "[CV]  n_estimators=1000, min_samples_split=2, min_samples_leaf=1, max_features=sqrt, max_depth=25, total=   2.4s\n",
      "[CV] n_estimators=1000, min_samples_split=2, min_samples_leaf=1, max_features=sqrt, max_depth=25 \n",
      "[CV]  n_estimators=1000, min_samples_split=2, min_samples_leaf=1, max_features=sqrt, max_depth=25, total=   2.5s\n",
      "[CV] n_estimators=1000, min_samples_split=2, min_samples_leaf=1, max_features=sqrt, max_depth=25 \n",
      "[CV]  n_estimators=1000, min_samples_split=2, min_samples_leaf=1, max_features=sqrt, max_depth=25, total=   2.4s\n",
      "[CV] n_estimators=1000, min_samples_split=2, min_samples_leaf=1, max_features=sqrt, max_depth=25 \n",
      "[CV]  n_estimators=1000, min_samples_split=2, min_samples_leaf=1, max_features=sqrt, max_depth=25, total=   2.4s\n",
      "[CV] n_estimators=1100, min_samples_split=15, min_samples_leaf=10, max_features=sqrt, max_depth=5 \n",
      "[CV]  n_estimators=1100, min_samples_split=15, min_samples_leaf=10, max_features=sqrt, max_depth=5, total=   1.5s\n",
      "[CV] n_estimators=1100, min_samples_split=15, min_samples_leaf=10, max_features=sqrt, max_depth=5 \n",
      "[CV]  n_estimators=1100, min_samples_split=15, min_samples_leaf=10, max_features=sqrt, max_depth=5, total=   1.4s\n",
      "[CV] n_estimators=1100, min_samples_split=15, min_samples_leaf=10, max_features=sqrt, max_depth=5 \n",
      "[CV]  n_estimators=1100, min_samples_split=15, min_samples_leaf=10, max_features=sqrt, max_depth=5, total=   1.4s\n",
      "[CV] n_estimators=1100, min_samples_split=15, min_samples_leaf=10, max_features=sqrt, max_depth=5 \n",
      "[CV]  n_estimators=1100, min_samples_split=15, min_samples_leaf=10, max_features=sqrt, max_depth=5, total=   1.4s\n",
      "[CV] n_estimators=1100, min_samples_split=15, min_samples_leaf=10, max_features=sqrt, max_depth=5 \n",
      "[CV]  n_estimators=1100, min_samples_split=15, min_samples_leaf=10, max_features=sqrt, max_depth=5, total=   1.4s\n",
      "[CV] n_estimators=300, min_samples_split=15, min_samples_leaf=1, max_features=sqrt, max_depth=15 \n",
      "[CV]  n_estimators=300, min_samples_split=15, min_samples_leaf=1, max_features=sqrt, max_depth=15, total=   0.5s\n",
      "[CV] n_estimators=300, min_samples_split=15, min_samples_leaf=1, max_features=sqrt, max_depth=15 \n",
      "[CV]  n_estimators=300, min_samples_split=15, min_samples_leaf=1, max_features=sqrt, max_depth=15, total=   0.5s\n",
      "[CV] n_estimators=300, min_samples_split=15, min_samples_leaf=1, max_features=sqrt, max_depth=15 \n",
      "[CV]  n_estimators=300, min_samples_split=15, min_samples_leaf=1, max_features=sqrt, max_depth=15, total=   0.5s\n",
      "[CV] n_estimators=300, min_samples_split=15, min_samples_leaf=1, max_features=sqrt, max_depth=15 \n",
      "[CV]  n_estimators=300, min_samples_split=15, min_samples_leaf=1, max_features=sqrt, max_depth=15, total=   0.6s\n",
      "[CV] n_estimators=300, min_samples_split=15, min_samples_leaf=1, max_features=sqrt, max_depth=15 \n",
      "[CV]  n_estimators=300, min_samples_split=15, min_samples_leaf=1, max_features=sqrt, max_depth=15, total=   0.5s\n",
      "[CV] n_estimators=700, min_samples_split=10, min_samples_leaf=2, max_features=sqrt, max_depth=5 \n"
     ]
    },
    {
     "name": "stdout",
     "output_type": "stream",
     "text": [
      "[CV]  n_estimators=700, min_samples_split=10, min_samples_leaf=2, max_features=sqrt, max_depth=5, total=   0.9s\n",
      "[CV] n_estimators=700, min_samples_split=10, min_samples_leaf=2, max_features=sqrt, max_depth=5 \n",
      "[CV]  n_estimators=700, min_samples_split=10, min_samples_leaf=2, max_features=sqrt, max_depth=5, total=   1.0s\n",
      "[CV] n_estimators=700, min_samples_split=10, min_samples_leaf=2, max_features=sqrt, max_depth=5 \n",
      "[CV]  n_estimators=700, min_samples_split=10, min_samples_leaf=2, max_features=sqrt, max_depth=5, total=   0.9s\n",
      "[CV] n_estimators=700, min_samples_split=10, min_samples_leaf=2, max_features=sqrt, max_depth=5 \n",
      "[CV]  n_estimators=700, min_samples_split=10, min_samples_leaf=2, max_features=sqrt, max_depth=5, total=   0.9s\n",
      "[CV] n_estimators=700, min_samples_split=10, min_samples_leaf=2, max_features=sqrt, max_depth=5 \n",
      "[CV]  n_estimators=700, min_samples_split=10, min_samples_leaf=2, max_features=sqrt, max_depth=5, total=   1.0s\n",
      "[CV] n_estimators=700, min_samples_split=15, min_samples_leaf=1, max_features=auto, max_depth=20 \n",
      "[CV]  n_estimators=700, min_samples_split=15, min_samples_leaf=1, max_features=auto, max_depth=20, total=   4.8s\n",
      "[CV] n_estimators=700, min_samples_split=15, min_samples_leaf=1, max_features=auto, max_depth=20 \n",
      "[CV]  n_estimators=700, min_samples_split=15, min_samples_leaf=1, max_features=auto, max_depth=20, total=   4.8s\n",
      "[CV] n_estimators=700, min_samples_split=15, min_samples_leaf=1, max_features=auto, max_depth=20 \n",
      "[CV]  n_estimators=700, min_samples_split=15, min_samples_leaf=1, max_features=auto, max_depth=20, total=   4.8s\n",
      "[CV] n_estimators=700, min_samples_split=15, min_samples_leaf=1, max_features=auto, max_depth=20 \n",
      "[CV]  n_estimators=700, min_samples_split=15, min_samples_leaf=1, max_features=auto, max_depth=20, total=   4.7s\n",
      "[CV] n_estimators=700, min_samples_split=15, min_samples_leaf=1, max_features=auto, max_depth=20 \n",
      "[CV]  n_estimators=700, min_samples_split=15, min_samples_leaf=1, max_features=auto, max_depth=20, total=   4.9s\n"
     ]
    },
    {
     "name": "stderr",
     "output_type": "stream",
     "text": [
      "[Parallel(n_jobs=1)]: Done  50 out of  50 | elapsed:  1.8min finished\n"
     ]
    },
    {
     "data": {
      "text/plain": [
       "RandomizedSearchCV(cv=5, error_score=nan,\n",
       "                   estimator=RandomForestRegressor(bootstrap=True,\n",
       "                                                   ccp_alpha=0.0,\n",
       "                                                   criterion='mse',\n",
       "                                                   max_depth=None,\n",
       "                                                   max_features='auto',\n",
       "                                                   max_leaf_nodes=None,\n",
       "                                                   max_samples=None,\n",
       "                                                   min_impurity_decrease=0.0,\n",
       "                                                   min_impurity_split=None,\n",
       "                                                   min_samples_leaf=1,\n",
       "                                                   min_samples_split=2,\n",
       "                                                   min_weight_fraction_leaf=0.0,\n",
       "                                                   n_estimators=100,\n",
       "                                                   n_jobs=None, oob_score=Fals...\n",
       "                   iid='deprecated', n_iter=10, n_jobs=1,\n",
       "                   param_distributions={'max_depth': [5, 10, 15, 20, 25, 30],\n",
       "                                        'max_features': ['auto', 'sqrt'],\n",
       "                                        'min_samples_leaf': [1, 2, 5, 10],\n",
       "                                        'min_samples_split': [2, 5, 10, 15,\n",
       "                                                              100],\n",
       "                                        'n_estimators': [100, 200, 300, 400,\n",
       "                                                         500, 600, 700, 800,\n",
       "                                                         900, 1000, 1100,\n",
       "                                                         1200]},\n",
       "                   pre_dispatch='2*n_jobs', random_state=42, refit=True,\n",
       "                   return_train_score=False, scoring='neg_mean_squared_error',\n",
       "                   verbose=2)"
      ]
     },
     "execution_count": 20,
     "metadata": {},
     "output_type": "execute_result"
    }
   ],
   "source": [
    "cv.fit(xtrain,ytrain) #fitting rondom search cv in xtrain and y train"
   ]
  },
  {
   "cell_type": "code",
   "execution_count": 21,
   "metadata": {},
   "outputs": [
    {
     "data": {
      "text/plain": [
       "{'n_estimators': 1000,\n",
       " 'min_samples_split': 2,\n",
       " 'min_samples_leaf': 1,\n",
       " 'max_features': 'sqrt',\n",
       " 'max_depth': 25}"
      ]
     },
     "execution_count": 21,
     "metadata": {},
     "output_type": "execute_result"
    }
   ],
   "source": [
    "cv.best_params_ #best estimators are as follows"
   ]
  },
  {
   "cell_type": "code",
   "execution_count": 69,
   "metadata": {},
   "outputs": [
    {
     "data": {
      "text/plain": [
       "-680523313.7651649"
      ]
     },
     "execution_count": 69,
     "metadata": {},
     "output_type": "execute_result"
    }
   ],
   "source": [
    "cv.best_score_"
   ]
  },
  {
   "cell_type": "code",
   "execution_count": 70,
   "metadata": {},
   "outputs": [
    {
     "name": "stdout",
     "output_type": "stream",
     "text": [
      "[139481.476      126401.673      259846.324      136236.059\n",
      " 128156.50190476 205632.144      168160.926      132414.96171429\n",
      " 218046.209      237495.241      158359.651      146497.606\n",
      " 330087.729      133392.28557143 114261.642      156665.35\n",
      " 218488.457      188731.938      308902.27       157873.982\n",
      " 494737.975      103049.797      231964.49       160557.579\n",
      " 197604.271      305384.971      195644.928      140563.942\n",
      " 127579.577      211233.314      169031.093      150670.176\n",
      " 145042.287      163309.423      163655.789      134755.8678\n",
      " 366601.986      144275.439      139552.13166667 178546.155\n",
      " 139199.379      120432.099      143141.219      199602.119\n",
      " 111061.82981818 165742.299      128194.363       98341.415\n",
      " 152712.116      133852.777      152358.268      156327.507\n",
      " 157370.492      250088.517       94031.575      103471.366\n",
      " 325881.961      189383.53870085 123437.258       95590.834\n",
      " 176744.697      313167.441      151005.301      230191.0535\n",
      " 430217.915      101102.356      172456.86       154042.86566667\n",
      " 397519.991      137893.016      174916.685      283760.436\n",
      " 173191.135      174088.33845    211052.955       99255.09848485\n",
      " 125491.86106061 151813.321      324419.693      203458.53876923\n",
      " 171666.005      130783.70066667 143887.785      104421.418\n",
      " 145803.738      218308.71       104699.566      152854.573\n",
      " 132854.76175758 172984.799      235610.391      187663.12192308\n",
      " 173162.345      330760.648      140774.09       130342.46111111\n",
      " 219027.80644444 372352.977      337322.821      156681.114\n",
      " 117700.46635411 182027.09       219681.329      200935.908\n",
      " 140053.792      214341.505      129668.051      123120.50111111\n",
      " 220214.773      248218.875      202682.008      252878.242\n",
      "  99110.25333333 303471.695      173088.857      113147.805\n",
      " 157270.233      148466.778      170864.23       175379.88925\n",
      " 250348.435      348861.301      179353.95981818 174645.19545\n",
      " 177438.777      191184.343      212996.497      137830.12606061\n",
      " 343777.719      309322.234      141185.45509091 204444.431\n",
      " 308534.376      130033.465      143123.00233333 183679.268\n",
      " 162955.219      174453.144      192599.91425    198432.751\n",
      " 288423.304      299533.236      163008.073       88483.648\n",
      " 104340.886      100264.169      107611.473      186337.211\n",
      "  84338.004      208317.358      160164.146      221258.278\n",
      " 111599.25       135805.78966667 183055.672      299155.547\n",
      " 198617.448      131187.035      135211.97456061 104537.916\n",
      " 289382.659      251498.974      251470.131      339988.928\n",
      " 120233.49290909 168731.084      172826.842      123209.59511111\n",
      " 126196.255      212004.664      115734.779      141339.675\n",
      " 161478.651      117610.403      217857.286       98863.434\n",
      " 143215.426      188535.27866667 144042.82725    148003.57666667\n",
      " 271007.473      249519.978      168057.231      221405.77\n",
      " 128360.115      126351.852      200209.612       77693.351\n",
      " 162623.421      242309.142      126797.442      161966.052\n",
      " 261420.815      130036.656      191492.803       98146.503\n",
      " 531228.508      151133.679      200600.2735     130612.79611111\n",
      " 165348.454      424540.489      162936.198      155763.862\n",
      " 166950.879      217641.554      161520.444      145060.264\n",
      " 177345.769      151855.648      168256.798      132430.89657143\n",
      " 123527.721      225402.227      187829.193      219330.038\n",
      " 149091.64266667 118343.32033333 203744.19684615 249372.862\n",
      " 153117.503      124945.2133     119885.24809091 188447.17\n",
      " 129450.57257143 162398.07       214565.423      150338.079\n",
      " 142577.787      308588.588      149531.56433333 123390.546\n",
      " 175203.526      156642.683      215109.07266667 115517.28418182\n",
      " 226309.338      220994.163      213534.369      167091.517\n",
      "  95958.884      179948.772      155006.42       254164.122\n",
      " 336859.108      345844.43       364550.134      103014.298\n",
      " 203866.059      169115.804      196599.528      221801.37933333\n",
      " 152522.33166667 122169.727      125272.275      121480.794\n",
      " 233162.45633333 277563.004      285335.86       249561.741\n",
      " 117090.4228658   95227.501      183627.61283333 217658.893\n",
      " 154848.319      406571.701      178138.87183974 141710.59933333\n",
      " 120624.914      220457.454      180089.35483974  95365.75133333\n",
      " 177810.55809615 257272.44       118661.266      144925.78566667\n",
      " 289335.068      310366.713      169256.977      181059.716\n",
      " 177764.8856359  130954.735      220768.165      465532.948\n",
      " 127758.491      271099.756      187231.604      198984.908\n",
      " 376215.305      103193.72066667 140415.2        100814.31      ]\n"
     ]
    }
   ],
   "source": [
    "predictions=cv.predict(xtest) #predicting Xtest\n",
    "print(predictions)"
   ]
  },
  {
   "cell_type": "code",
   "execution_count": 28,
   "metadata": {},
   "outputs": [
    {
     "data": {
      "text/plain": [
       "<matplotlib.axes._subplots.AxesSubplot at 0x20fb1faae48>"
      ]
     },
     "execution_count": 28,
     "metadata": {},
     "output_type": "execute_result"
    },
    {
     "data": {
      "image/png": "[encoded data removed]",
      "text/plain": [
       "<Figure size 432x288 with 1 Axes>"
      ]
     },
     "metadata": {
      "needs_background": "light"
     },
     "output_type": "display_data"
    }
   ],
   "source": [
    "sns.distplot(ytest-predictions) #plotting sns ytest-ypred"
   ]
  },
  {
   "cell_type": "code",
   "execution_count": 29,
   "metadata": {},
   "outputs": [
    {
     "data": {
      "text/plain": [
       "<matplotlib.collections.PathCollection at 0x20fb1fefa58>"
      ]
     },
     "execution_count": 29,
     "metadata": {},
     "output_type": "execute_result"
    },
    {
     "data": {
      "image/png": "[encoded data removed]",
      "text/plain": [
       "<Figure size 432x288 with 1 Axes>"
      ]
     },
     "metadata": {
      "needs_background": "light"
     },
     "output_type": "display_data"
    }
   ],
   "source": [
    "plt.scatter(ytest,predictions) #scatter plot for ytest and predcited value"
   ]
  },
  {
   "cell_type": "code",
   "execution_count": 30,
   "metadata": {},
   "outputs": [
    {
     "name": "stdout",
     "output_type": "stream",
     "text": [
      "score of our mdoel is  0.7970246909471572\n"
     ]
    }
   ],
   "source": [
    "#creating ,fitting applying random forest model\n",
    "regressor=RandomForestRegressor(n_estimators=1000,min_samples_split=2,min_samples_leaf=1,max_features=\"sqrt\",max_depth=25)\n",
    "regressor.fit(xtrain,ytrain)\n",
    "ypred = regressor.predict(xtest)\n",
    "#score=accuracy_score(ypred,ytest)\n",
    "from sklearn.metrics import r2_score # r2 for accuracy sore in regression problem\n",
    "finalscore=r2_score(ytest, ypred)\n",
    "print(\"score of our mdoel is \",+finalscore)"
   ]
  },
  {
   "cell_type": "code",
   "execution_count": 74,
   "metadata": {},
   "outputs": [
    {
     "name": "stdout",
     "output_type": "stream",
     "text": [
      "sales price of test data (from train split) i.e y---->test\n",
      "actual values\n",
      "867     129000\n",
      "422     113000\n",
      "720     275000\n",
      "291     135900\n",
      "1119    133700\n",
      "1409    215000\n",
      "563     185000\n",
      "484     132500\n",
      "686     227875\n",
      "1107    274725\n",
      "Name: SalePrice, dtype: int64\n",
      "sales price of test data(from train split) i.ey'----->test\n",
      "predicted values\n"
     ]
    },
    {
     "data": {
      "text/plain": [
       "array([139481.476     , 126401.673     , 259846.324     , 136236.059     ,\n",
       "       128156.50190476, 205632.144     , 168160.926     , 132414.96171429,\n",
       "       218046.209     , 237495.241     , 158359.651     , 146497.606     ,\n",
       "       330087.729     , 133392.28557143, 114261.642     , 156665.35      ,\n",
       "       218488.457     , 188731.938     , 308902.27      , 157873.982     ,\n",
       "       494737.975     , 103049.797     , 231964.49      , 160557.579     ,\n",
       "       197604.271     , 305384.971     , 195644.928     , 140563.942     ,\n",
       "       127579.577     , 211233.314     , 169031.093     , 150670.176     ,\n",
       "       145042.287     , 163309.423     , 163655.789     , 134755.8678    ,\n",
       "       366601.986     , 144275.439     , 139552.13166667, 178546.155     ,\n",
       "       139199.379     , 120432.099     , 143141.219     , 199602.119     ,\n",
       "       111061.82981818, 165742.299     , 128194.363     ,  98341.415     ,\n",
       "       152712.116     , 133852.777     , 152358.268     , 156327.507     ,\n",
       "       157370.492     , 250088.517     ,  94031.575     , 103471.366     ,\n",
       "       325881.961     , 189383.53870085, 123437.258     ,  95590.834     ,\n",
       "       176744.697     , 313167.441     , 151005.301     , 230191.0535    ,\n",
       "       430217.915     , 101102.356     , 172456.86      , 154042.86566667,\n",
       "       397519.991     , 137893.016     , 174916.685     , 283760.436     ,\n",
       "       173191.135     , 174088.33845   , 211052.955     ,  99255.09848485,\n",
       "       125491.86106061, 151813.321     , 324419.693     , 203458.53876923,\n",
       "       171666.005     , 130783.70066667, 143887.785     , 104421.418     ,\n",
       "       145803.738     , 218308.71      , 104699.566     , 152854.573     ,\n",
       "       132854.76175758, 172984.799     , 235610.391     , 187663.12192308,\n",
       "       173162.345     , 330760.648     , 140774.09      , 130342.46111111,\n",
       "       219027.80644444, 372352.977     , 337322.821     , 156681.114     ,\n",
       "       117700.46635411, 182027.09      , 219681.329     , 200935.908     ,\n",
       "       140053.792     , 214341.505     , 129668.051     , 123120.50111111,\n",
       "       220214.773     , 248218.875     , 202682.008     , 252878.242     ,\n",
       "        99110.25333333, 303471.695     , 173088.857     , 113147.805     ,\n",
       "       157270.233     , 148466.778     , 170864.23      , 175379.88925   ,\n",
       "       250348.435     , 348861.301     , 179353.95981818, 174645.19545   ,\n",
       "       177438.777     , 191184.343     , 212996.497     , 137830.12606061,\n",
       "       343777.719     , 309322.234     , 141185.45509091, 204444.431     ,\n",
       "       308534.376     , 130033.465     , 143123.00233333, 183679.268     ,\n",
       "       162955.219     , 174453.144     , 192599.91425   , 198432.751     ,\n",
       "       288423.304     , 299533.236     , 163008.073     ,  88483.648     ,\n",
       "       104340.886     , 100264.169     , 107611.473     , 186337.211     ,\n",
       "        84338.004     , 208317.358     , 160164.146     , 221258.278     ,\n",
       "       111599.25      , 135805.78966667, 183055.672     , 299155.547     ,\n",
       "       198617.448     , 131187.035     , 135211.97456061, 104537.916     ,\n",
       "       289382.659     , 251498.974     , 251470.131     , 339988.928     ,\n",
       "       120233.49290909, 168731.084     , 172826.842     , 123209.59511111,\n",
       "       126196.255     , 212004.664     , 115734.779     , 141339.675     ,\n",
       "       161478.651     , 117610.403     , 217857.286     ,  98863.434     ,\n",
       "       143215.426     , 188535.27866667, 144042.82725   , 148003.57666667,\n",
       "       271007.473     , 249519.978     , 168057.231     , 221405.77      ,\n",
       "       128360.115     , 126351.852     , 200209.612     ,  77693.351     ,\n",
       "       162623.421     , 242309.142     , 126797.442     , 161966.052     ,\n",
       "       261420.815     , 130036.656     , 191492.803     ,  98146.503     ,\n",
       "       531228.508     , 151133.679     , 200600.2735    , 130612.79611111,\n",
       "       165348.454     , 424540.489     , 162936.198     , 155763.862     ,\n",
       "       166950.879     , 217641.554     , 161520.444     , 145060.264     ,\n",
       "       177345.769     , 151855.648     , 168256.798     , 132430.89657143,\n",
       "       123527.721     , 225402.227     , 187829.193     , 219330.038     ,\n",
       "       149091.64266667, 118343.32033333, 203744.19684615, 249372.862     ,\n",
       "       153117.503     , 124945.2133    , 119885.24809091, 188447.17      ,\n",
       "       129450.57257143, 162398.07      , 214565.423     , 150338.079     ,\n",
       "       142577.787     , 308588.588     , 149531.56433333, 123390.546     ,\n",
       "       175203.526     , 156642.683     , 215109.07266667, 115517.28418182,\n",
       "       226309.338     , 220994.163     , 213534.369     , 167091.517     ,\n",
       "        95958.884     , 179948.772     , 155006.42      , 254164.122     ,\n",
       "       336859.108     , 345844.43      , 364550.134     , 103014.298     ,\n",
       "       203866.059     , 169115.804     , 196599.528     , 221801.37933333,\n",
       "       152522.33166667, 122169.727     , 125272.275     , 121480.794     ,\n",
       "       233162.45633333, 277563.004     , 285335.86      , 249561.741     ,\n",
       "       117090.4228658 ,  95227.501     , 183627.61283333, 217658.893     ,\n",
       "       154848.319     , 406571.701     , 178138.87183974, 141710.59933333,\n",
       "       120624.914     , 220457.454     , 180089.35483974,  95365.75133333,\n",
       "       177810.55809615, 257272.44      , 118661.266     , 144925.78566667,\n",
       "       289335.068     , 310366.713     , 169256.977     , 181059.716     ,\n",
       "       177764.8856359 , 130954.735     , 220768.165     , 465532.948     ,\n",
       "       127758.491     , 271099.756     , 187231.604     , 198984.908     ,\n",
       "       376215.305     , 103193.72066667, 140415.2       , 100814.31      ])"
      ]
     },
     "execution_count": 74,
     "metadata": {},
     "output_type": "execute_result"
    }
   ],
   "source": [
    "print(\"sales price of test data (from train split) i.e y---->test\")\n",
    "print(\"actual values\")\n",
    "print(ytest.head(10))\n",
    "print(\"sales price of test data(from train split) i.ey'----->test\")\n",
    "print(\"predicted values\")\n",
    "predictions"
   ]
  },
  {
   "cell_type": "code",
   "execution_count": 31,
   "metadata": {},
   "outputs": [
    {
     "name": "stdout",
     "output_type": "stream",
     "text": [
      "++++++++++++++++++++++++++++++++++++++++++++++++++++++++++++++++++++++++++++++++++++++++++++++++++++++++++++++++++++++++++++\n",
      "++++++++++++++++++++++++++++++++++++++++++++++++++++++++++++++++++++++++++++++++++++++++++++++++++++++++++++++++++++++++++++\n",
      "++++++++++++++++++++++++++++++++++++++++++++++++++++++++++++++++++++++++++++++++++++++++++++++++++++++++++++++++++++++++++++\n",
      "++++++++++++++++++++++++++++++++++++++++++++++++++++++++++++++++++++++++++++++++++++++++++++++++++++++++++++++++++++++++++++\n",
      "++++++++++++++++++++++++++++++++++++++++++++++++++++++++++++++++++++++++++++++++++++++++++++++++++++++++++++++++++++++++++++\n",
      "++++++++++++++++++++++++++++++++++++++++++++++++++++++++++++++++++++++++++++++++++++++++++++++++++++++++++++++++++++++++++++\n"
     ]
    }
   ],
   "source": [
    "print(\"++++++++++++++++++++++++++++++++++++++++++++++++++++++++++++++++++++++++++++++++++++++++++++++++++++++++++++++++++++++++++++\")\n",
    "print(\"++++++++++++++++++++++++++++++++++++++++++++++++++++++++++++++++++++++++++++++++++++++++++++++++++++++++++++++++++++++++++++\")\n",
    "print(\"++++++++++++++++++++++++++++++++++++++++++++++++++++++++++++++++++++++++++++++++++++++++++++++++++++++++++++++++++++++++++++\")\n",
    "print(\"++++++++++++++++++++++++++++++++++++++++++++++++++++++++++++++++++++++++++++++++++++++++++++++++++++++++++++++++++++++++++++\")\n",
    "print(\"++++++++++++++++++++++++++++++++++++++++++++++++++++++++++++++++++++++++++++++++++++++++++++++++++++++++++++++++++++++++++++\")\n",
    "print(\"++++++++++++++++++++++++++++++++++++++++++++++++++++++++++++++++++++++++++++++++++++++++++++++++++++++++++++++++++++++++++++\")"
   ]
  },
  {
   "cell_type": "code",
   "execution_count": 79,
   "metadata": {},
   "outputs": [
    {
     "name": "stdout",
     "output_type": "stream",
     "text": [
      "test data shape (1459, 81)\n",
      "independent feature of test data (1459, 79)\n",
      "dependent feature of test data (1459,)\n"
     ]
    }
   ],
   "source": [
    "test=pd.read_csv(\"finaltestdata.csv\")\n",
    "#test data load \n",
    "print(\"test data shape\",test.shape)\n",
    "test.head(3) #first three rows of test data\n",
    "test.fillna(0,inplace=True) #there 3 nan values which are not converted into something in test data so im replacing with 0\n",
    "testy=test.iloc[:,1]\n",
    "testx=test.iloc[:,2:81]\n",
    "print(\"independent feature of test data\",testx.shape)\n",
    "print(\"dependent feature of test data\",testy.shape)"
   ]
  },
  {
   "cell_type": "code",
   "execution_count": 80,
   "metadata": {},
   "outputs": [
    {
     "name": "stdout",
     "output_type": "stream",
     "text": [
      "[137630.376 164125.524 168794.371 ... 156823.248 116390.558 207676.111]\n"
     ]
    }
   ],
   "source": [
    "predictionsmaintest=cv.predict(testx) #predicting original test data \n",
    "print(predictionsmaintest)"
   ]
  },
  {
   "cell_type": "code",
   "execution_count": 65,
   "metadata": {},
   "outputs": [
    {
     "data": {
      "text/plain": [
       "<matplotlib.axes._subplots.AxesSubplot at 0x20fb939c0f0>"
      ]
     },
     "execution_count": 65,
     "metadata": {},
     "output_type": "execute_result"
    },
    {
     "data": {
      "image/png": "[encoded data removed]",
      "text/plain": [
       "<Figure size 432x288 with 1 Axes>"
      ]
     },
     "metadata": {
      "needs_background": "light"
     },
     "output_type": "display_data"
    }
   ],
   "source": [
    "sns.distplot(testy-predictionsmaintest) #plotting sns testy-predictionmaintest"
   ]
  },
  {
   "cell_type": "code",
   "execution_count": 66,
   "metadata": {},
   "outputs": [
    {
     "data": {
      "text/plain": [
       "<matplotlib.collections.PathCollection at 0x20fb90eb320>"
      ]
     },
     "execution_count": 66,
     "metadata": {},
     "output_type": "execute_result"
    },
    {
     "data": {
      "image/png": "[encoded data removed]",
      "text/plain": [
       "<Figure size 432x288 with 1 Axes>"
      ]
     },
     "metadata": {
      "needs_background": "light"
     },
     "output_type": "display_data"
    }
   ],
   "source": [
    "plt.scatter(testy,predictionsmaintest) #scatter plot for testy and predictionmaintest value"
   ]
  },
  {
   "cell_type": "code",
   "execution_count": 81,
   "metadata": {},
   "outputs": [
    {
     "name": "stdout",
     "output_type": "stream",
     "text": [
      "score of our mdoel is  0.7970246909471572\n"
     ]
    }
   ],
   "source": [
    "#creating ,fitting applying random forest model in our main test data and fiding its score\n",
    "regressor1=RandomForestRegressor(n_estimators=1000,min_samples_split=2,min_samples_leaf=1,max_features=\"sqrt\",max_depth=25)\n",
    "regressor1.fit(x,y) #original train data dependent an dindependent seprately\n",
    "ypred1 = regressor.predict(testx)\n",
    "from sklearn.metrics import r2_score # r2 for accuracy sore in regression problem\n",
    "finalscore1=r2_score(testy, ypred1)\n",
    "print(\"score of our mdoel is \",+finalscore)"
   ]
  },
  {
   "cell_type": "code",
   "execution_count": null,
   "metadata": {},
   "outputs": [],
   "source": []
  }
 ],
 "metadata": {
  "kernelspec": {
   "display_name": "Python 3",
   "language": "python",
   "name": "python3"
  },
  "language_info": {
   "codemirror_mode": {
    "name": "ipython",
    "version": 3
   },
   "file_extension": ".py",
   "mimetype": "text/x-python",
   "name": "python",
   "nbconvert_exporter": "python",
   "pygments_lexer": "ipython3",
   "version": "3.7.3"
  }
 },
 "nbformat": 4,
 "nbformat_minor": 4
}
